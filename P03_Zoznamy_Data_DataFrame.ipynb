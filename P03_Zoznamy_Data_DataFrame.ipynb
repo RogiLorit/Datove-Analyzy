{
 "cells": [
  {
   "cell_type": "markdown",
   "id": "9f4fbf25",
   "metadata": {},
   "source": [
    "# 01. Zoznam(List)"
   ]
  },
  {
   "cell_type": "code",
   "execution_count": 39,
   "id": "240ce681",
   "metadata": {},
   "outputs": [
    {
     "name": "stdout",
     "output_type": "stream",
     "text": [
      "<class 'list'>\n",
      "[]\n",
      "<class 'list'>\n",
      "['TV 8K Samsung', 'PS5', 'Nintendo']\n",
      "['mama', 'otec', 'babka', 'dedo']\n",
      "[1, 2, 3, 4, 5, 6, 7]\n",
      "(1256.85, 1984.25, 1346.24)\n",
      "[True, False, False, True]\n",
      "['Janko', '35', 'True', '1.85', ['Python', 'C', 'JavaScript']]\n"
     ]
    }
   ],
   "source": [
    "nakupny_zoznam = []\n",
    "print(type(nakupny_zoznam))\n",
    "print(nakupny_zoznam)\n",
    "\n",
    "nakupny_zoznam = ['TV 8K Samsung', 'PS5', 'Nintendo']\n",
    "print(type(nakupny_zoznam))\n",
    "print(nakupny_zoznam)\n",
    "\n",
    "rodina = ['mama', 'otec', 'babka', 'dedo']\n",
    "print(rodina)\n",
    "\n",
    "ciselny_zoznam = [1,2,3,4,5,6,7]\n",
    "print(ciselny_zoznam)\n",
    "\n",
    "mzdy_zamestnavatelov = (1256.85, 1984.25, 1346.24)\n",
    "print(mzdy_zamestnavatelov)\n",
    "\n",
    "suhlasy_pouzivatelov = [True, False, False, True]\n",
    "print(suhlasy_pouzivatelov)\n",
    "\n",
    "# Heterogenne - vsade rozne typy\n",
    "janko_hrasko = ['Janko', '35', 'True','1.85', ['Python', 'C', 'JavaScript']]\n",
    "print(janko_hrasko)\n"
   ]
  },
  {
   "cell_type": "markdown",
   "id": "f1074a88",
   "metadata": {},
   "source": [
    "# 02. Praca so zoznamom"
   ]
  },
  {
   "cell_type": "code",
   "execution_count": 2,
   "id": "7f45cfdb",
   "metadata": {},
   "outputs": [
    {
     "name": "stdout",
     "output_type": "stream",
     "text": [
      "['TV 8K Samsung', 'PS5', 'Nintendo', 'USB kabel', 'Mobil']\n",
      "1. polozka/0. index --> TV 8K Samsung\n",
      "2. polozka/1. index --> PS5\n",
      "1. Posledna polozka polozka/-1. index --> Mobil\n",
      "2. Predposledna polozka polozka/-2. index --> USB kabel\n",
      "Pocet poloziek --> 5\n",
      "1. Posledna polozka polozka/-1. index --> Mobil\n",
      "2. Predposledna polozka polozka/-2. index --> USB kabel\n"
     ]
    }
   ],
   "source": [
    "nakupny_zoznam = ['TV 8K Samsung', 'PS5', 'Nintendo', 'USB kabel', 'Mobil']\n",
    "print(nakupny_zoznam)\n",
    "# index\n",
    "print(\"1. polozka/0. index -->\", nakupny_zoznam[0])\n",
    "print(\"2. polozka/1. index -->\", nakupny_zoznam[1])\n",
    "print(\"1. Posledna polozka polozka/-1. index -->\", nakupny_zoznam[-1])\n",
    "print(\"2. Predposledna polozka polozka/-2. index -->\", nakupny_zoznam[-2])\n",
    "\n",
    "print(\"Pocet poloziek -->\", len(nakupny_zoznam))\n",
    "print(\"1. Posledna polozka polozka/-1. index -->\", nakupny_zoznam[len(nakupny_zoznam)-1])\n",
    "print(\"2. Predposledna polozka polozka/-2. index -->\", nakupny_zoznam[len(nakupny_zoznam)-2])"
   ]
  },
  {
   "cell_type": "markdown",
   "id": "e399a985",
   "metadata": {},
   "source": [
    "# 03. Numpy, Polia (arrays)"
   ]
  },
  {
   "cell_type": "code",
   "execution_count": 2,
   "id": "134b782b",
   "metadata": {},
   "outputs": [
    {
     "name": "stdout",
     "output_type": "stream",
     "text": [
      "0     Adam\n",
      "1      Eva\n",
      "2    Peter\n",
      "3    Kamil\n",
      "4     Fero\n",
      "dtype: object\n"
     ]
    }
   ],
   "source": [
    "import numpy\n",
    "import pandas\n",
    "\n",
    "data = numpy.array([\"Adam\",\"Eva\",\"Peter\",\"Kamil\",\"Fero\"])\n",
    "rady = pandas.Series(data)\n",
    "\n",
    "print(rady)"
   ]
  },
  {
   "cell_type": "code",
   "execution_count": 33,
   "id": "dffb1d03",
   "metadata": {},
   "outputs": [
    {
     "name": "stdout",
     "output_type": "stream",
     "text": [
      "           Meno  Vek\n",
      "general    Adam   18\n",
      "nacelnik    Eva   20\n",
      "porucik   Peter   16\n",
      "rotny     Kamil   36\n",
      "pesiak     Fero   19\n"
     ]
    },
    {
     "data": {
      "text/html": [
       "<div>\n",
       "<style scoped>\n",
       "    .dataframe tbody tr th:only-of-type {\n",
       "        vertical-align: middle;\n",
       "    }\n",
       "\n",
       "    .dataframe tbody tr th {\n",
       "        vertical-align: top;\n",
       "    }\n",
       "\n",
       "    .dataframe thead th {\n",
       "        text-align: right;\n",
       "    }\n",
       "</style>\n",
       "<table border=\"1\" class=\"dataframe\">\n",
       "  <thead>\n",
       "    <tr style=\"text-align: right;\">\n",
       "      <th></th>\n",
       "      <th>Meno</th>\n",
       "      <th>Vek</th>\n",
       "    </tr>\n",
       "  </thead>\n",
       "  <tbody>\n",
       "    <tr>\n",
       "      <th>general</th>\n",
       "      <td>Adam</td>\n",
       "      <td>18</td>\n",
       "    </tr>\n",
       "    <tr>\n",
       "      <th>nacelnik</th>\n",
       "      <td>Eva</td>\n",
       "      <td>20</td>\n",
       "    </tr>\n",
       "    <tr>\n",
       "      <th>porucik</th>\n",
       "      <td>Peter</td>\n",
       "      <td>16</td>\n",
       "    </tr>\n",
       "    <tr>\n",
       "      <th>rotny</th>\n",
       "      <td>Kamil</td>\n",
       "      <td>36</td>\n",
       "    </tr>\n",
       "    <tr>\n",
       "      <th>pesiak</th>\n",
       "      <td>Fero</td>\n",
       "      <td>19</td>\n",
       "    </tr>\n",
       "  </tbody>\n",
       "</table>\n",
       "</div>"
      ],
      "text/plain": [
       "           Meno  Vek\n",
       "general    Adam   18\n",
       "nacelnik    Eva   20\n",
       "porucik   Peter   16\n",
       "rotny     Kamil   36\n",
       "pesiak     Fero   19"
      ]
     },
     "execution_count": 33,
     "metadata": {},
     "output_type": "execute_result"
    }
   ],
   "source": [
    "data_pouzivatelia = {\"Meno\":[\"Adam\",\"Eva\",\"Peter\",\"Kamil\",\"Fero\"], \"Vek\":[18, 20, 16, 36, 19]}\n",
    "data_frame =pandas.DataFrame(data_pouzivatelia, index = [\"general\",\"nacelnik\",\"porucik\",\"rotny\",\"pesiak\"])\n",
    "print(data_frame)\n",
    "data_frame"
   ]
  },
  {
   "cell_type": "markdown",
   "id": "ccf77368",
   "metadata": {},
   "source": [
    "# 04. Ciarovy graf"
   ]
  },
  {
   "cell_type": "code",
   "execution_count": 20,
   "id": "fb74d4ed",
   "metadata": {},
   "outputs": [
    {
     "data": {
      "text/plain": [
       "Text(3.5, 5.5, 'Brutal Rastieme')"
      ]
     },
     "execution_count": 20,
     "metadata": {},
     "output_type": "execute_result"
    },
    {
     "data": {
      "image/png": "[encoded data removed]",
      "text/plain": [
       "<Figure size 432x288 with 1 Axes>"
      ]
     },
     "metadata": {
      "needs_background": "light"
     },
     "output_type": "display_data"
    }
   ],
   "source": [
    "import numpy as np\n",
    "from matplotlib import pyplot as plt\n",
    "\n",
    "x = np.arange(0,5)\n",
    "y = x ^ 2\n",
    "\n",
    "plt.title(\"BitCoin Cena\")\n",
    "plt.xlabel(\"Cena\")\n",
    "plt.ylabel(\"Cas\")\n",
    "plt.plot(x,y)\n",
    "\n",
    "plt.annotate(xy=[1,3.5],text=\"Rastieme\")\n",
    "plt.annotate(xy=[2,0.5],text=\"Krachujeme\")\n",
    "plt.annotate(xy=[3.5,5.5],text=\"Brutal Rastieme\")"
   ]
  },
  {
   "cell_type": "code",
   "execution_count": null,
   "id": "8989afa1",
   "metadata": {},
   "outputs": [],
   "source": []
  }
 ],
 "metadata": {
  "kernelspec": {
   "display_name": "Python 3 (ipykernel)",
   "language": "python",
   "name": "python3"
  },
  "language_info": {
   "codemirror_mode": {
    "name": "ipython",
    "version": 3
   },
   "file_extension": ".py",
   "mimetype": "text/x-python",
   "name": "python",
   "nbconvert_exporter": "python",
   "pygments_lexer": "ipython3",
   "version": "3.9.7"
  }
 },
 "nbformat": 4,
 "nbformat_minor": 5
}
