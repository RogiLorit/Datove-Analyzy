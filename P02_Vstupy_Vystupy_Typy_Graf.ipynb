{
 "cells": [
  {
   "cell_type": "markdown",
   "id": "c2a71a04",
   "metadata": {},
   "source": [
    "# 01. Práca so vstupom"
   ]
  },
  {
   "cell_type": "code",
   "execution_count": 1,
   "id": "5ebb1dcc",
   "metadata": {},
   "outputs": [
    {
     "name": "stdout",
     "output_type": "stream",
     "text": [
      "Ako sa volas? ->Igor\n"
     ]
    },
    {
     "data": {
      "text/plain": [
       "'Igor'"
      ]
     },
     "execution_count": 1,
     "metadata": {},
     "output_type": "execute_result"
    }
   ],
   "source": [
    "input(\"Ako sa volas? ->\")"
   ]
  },
  {
   "cell_type": "markdown",
   "id": "9e6fe97a",
   "metadata": {},
   "source": [
    "# 02. Dátové typy (typy premenných)"
   ]
  },
  {
   "cell_type": "code",
   "execution_count": 7,
   "id": "74f83f25",
   "metadata": {},
   "outputs": [
    {
     "name": "stdout",
     "output_type": "stream",
     "text": [
      "meno_klient ma typ premennej: <class 'str'>\n",
      "Ako sa volas? ->Igor\n",
      "Ahoj Igor\n"
     ]
    },
    {
     "data": {
      "text/plain": [
       "int"
      ]
     },
     "execution_count": 7,
     "metadata": {},
     "output_type": "execute_result"
    }
   ],
   "source": [
    "# str (string) - retazec\n",
    "meno_klient = \"Igor\"\n",
    "print(\"meno_klient ma typ premennej:\", type(meno_klient))\n",
    "\n",
    "meno_klient = input(\"Ako sa volas? ->\")\n",
    "print(\"Ahoj\", meno_klient)\n",
    "\n",
    "\n"
   ]
  },
  {
   "cell_type": "code",
   "execution_count": 17,
   "id": "781aee73",
   "metadata": {},
   "outputs": [
    {
     "name": "stdout",
     "output_type": "stream",
     "text": [
      "<class 'int'>\n",
      "23\n"
     ]
    }
   ],
   "source": [
    "# int (integer) - cele čisla - Z\n",
    "vek_klient = 23\n",
    "print(type(vek_klient))\n",
    "print(vek_klient)"
   ]
  },
  {
   "cell_type": "code",
   "execution_count": 18,
   "id": "04dd1fe6",
   "metadata": {},
   "outputs": [
    {
     "name": "stdout",
     "output_type": "stream",
     "text": [
      "<class 'float'>\n",
      "2389.63\n"
     ]
    }
   ],
   "source": [
    "# float - realne  čisla - R - desatinna bodka\n",
    "mzda_klient = 2389.63\n",
    "print(type(mzda_klient))\n",
    "print(mzda_klient)"
   ]
  },
  {
   "cell_type": "code",
   "execution_count": 19,
   "id": "86a17b91",
   "metadata": {},
   "outputs": [
    {
     "name": "stdout",
     "output_type": "stream",
     "text": [
      "<class 'bool'>\n",
      "True\n"
     ]
    }
   ],
   "source": [
    "# bool/booeLan - logické hodnoty - True, False\n",
    "status_klient_zenaty = True\n",
    "print(type(status_klient_zenaty))\n",
    "print(status_klient_zenaty)"
   ]
  },
  {
   "cell_type": "code",
   "execution_count": 22,
   "id": "7e639727",
   "metadata": {},
   "outputs": [
    {
     "name": "stdout",
     "output_type": "stream",
     "text": [
      "<class 'NoneType'>\n",
      "None\n"
     ]
    }
   ],
   "source": [
    "registracia_klient = None\n",
    "print(type(registracia_klient))\n",
    "print(registracia_klient)"
   ]
  },
  {
   "cell_type": "code",
   "execution_count": 24,
   "id": "585fe8fb",
   "metadata": {},
   "outputs": [
    {
     "name": "stdout",
     "output_type": "stream",
     "text": [
      "<class 'complex'>\n"
     ]
    }
   ],
   "source": [
    "# komplexné čísla\n",
    "# 5 + 2i\n",
    "a = 3 + 3j\n",
    "print(type(a))"
   ]
  },
  {
   "cell_type": "code",
   "execution_count": 31,
   "id": "1e131b20",
   "metadata": {},
   "outputs": [
    {
     "name": "stdout",
     "output_type": "stream",
     "text": [
      "Aktualny datum a cas je -->  2022-02-13 21:26:47.817407\n",
      "Aktualmy rok je --> 2022\n"
     ]
    }
   ],
   "source": [
    "import datetime\n",
    "aktuálny_dátum_čas = datetime.datetime.now()\n",
    "print(\"Aktualny datum a cas je --> \", aktuálny_dátum_čas)\n",
    "\n",
    "aktuálny_rok = aktuálny_dátum_čas.year\n",
    "print(\"Aktualmy rok je -->\", aktuálny_rok )"
   ]
  },
  {
   "cell_type": "code",
   "execution_count": 34,
   "id": "badae899",
   "metadata": {},
   "outputs": [
    {
     "name": "stdout",
     "output_type": "stream",
     "text": [
      "<class 'bytes'>\n",
      "b'Ahoj'\n"
     ]
    }
   ],
   "source": [
    "# bytes (bajty)\n",
    "a = b\"Ahoj\"\n",
    "print(type(a))\n",
    "print(a)"
   ]
  },
  {
   "cell_type": "code",
   "execution_count": 35,
   "id": "ec8188ba",
   "metadata": {},
   "outputs": [
    {
     "name": "stdout",
     "output_type": "stream",
     "text": [
      "<class 'memoryview'>\n",
      "<memory at 0x00000218C72A1B80>\n"
     ]
    }
   ],
   "source": [
    "# memoryview\n",
    "b = memoryview(bytes(2))\n",
    "print(type(b))\n",
    "print(b)"
   ]
  },
  {
   "cell_type": "markdown",
   "id": "c09a151f",
   "metadata": {},
   "source": [
    "# 03. Pretypovanie"
   ]
  },
  {
   "cell_type": "code",
   "execution_count": 43,
   "id": "bc9181b5",
   "metadata": {},
   "outputs": [
    {
     "name": "stdout",
     "output_type": "stream",
     "text": [
      "Vyplata ma hodnotu --> 1956.23 , je to typ --> <class 'float'>\n",
      "Vyplata ma hodnotu --> 1956 , je to typ --> <class 'int'>\n",
      "Vyplata ma hodnotu --> 1956.23 , je to typ --> <class 'str'>\n",
      "Vyplata ma hodnotu --> True , je to typ --> <class 'bool'>\n"
     ]
    }
   ],
   "source": [
    "vyplata = 1956.23\n",
    "print(\"Vyplata ma hodnotu -->\", vyplata, \", je to typ -->\", type(vyplata))\n",
    "\n",
    "vyplata_cele_cisla = int(vyplata)\n",
    "print(\"Vyplata ma hodnotu -->\", vyplata_cele_cisla, \", je to typ -->\", type(vyplata_cele_cisla))\n",
    "\n",
    "vyplata_retazec = str(vyplata)\n",
    "print(\"Vyplata ma hodnotu -->\", vyplata_retazec, \", je to typ -->\", type(vyplata_retazec))\n",
    "\n",
    "# 0, None --> false\n",
    "vyplata_bool = bool(vyplata)\n",
    "print(\"Vyplata ma hodnotu -->\", vyplata_bool, \", je to typ -->\", type(vyplata_bool))\n",
    "\n",
    "\n"
   ]
  },
  {
   "cell_type": "markdown",
   "id": "48e4dd3c",
   "metadata": {},
   "source": [
    "# 04. Graf, knižnica, numpy, matplotlib"
   ]
  },
  {
   "cell_type": "code",
   "execution_count": 55,
   "id": "36d60ffa",
   "metadata": {},
   "outputs": [
    {
     "data": {
      "image/png": "[encoded data removed]",
      "text/plain": [
       "<Figure size 432x288 with 1 Axes>"
      ]
     },
     "metadata": {
      "needs_background": "light"
     },
     "output_type": "display_data"
    }
   ],
   "source": [
    "import numpy\n",
    "import matplotlib.pyplot as plt\n",
    "\n",
    "# Suradnice/koordinatory X a Y\n",
    "x = numpy.arange(0, 4 * numpy.pi, 0.1)\n",
    "y = numpy.sin(x)\n",
    "\n",
    "# matplotlib.pyplot.plot(x,y)\n",
    "# matplotlib.pyplot.show()\n",
    "\n",
    "plt.title(\"Sinus signál\")\n",
    "plt.plot(x,y)\n",
    "plt.show()"
   ]
  },
  {
   "cell_type": "code",
   "execution_count": null,
   "id": "2e407db3",
   "metadata": {},
   "outputs": [],
   "source": []
  }
 ],
 "metadata": {
  "kernelspec": {
   "display_name": "Python 3 (ipykernel)",
   "language": "python",
   "name": "python3"
  },
  "language_info": {
   "codemirror_mode": {
    "name": "ipython",
    "version": 3
   },
   "file_extension": ".py",
   "mimetype": "text/x-python",
   "name": "python",
   "nbconvert_exporter": "python",
   "pygments_lexer": "ipython3",
   "version": "3.9.7"
  }
 },
 "nbformat": 4,
 "nbformat_minor": 5
}
