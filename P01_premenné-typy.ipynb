{
 "cells": [
  {
   "cell_type": "markdown",
   "id": "196c9ecc",
   "metadata": {},
   "source": [
    "# 01. Výpis, tlač"
   ]
  },
  {
   "cell_type": "code",
   "execution_count": 2,
   "id": "b4ec5e96",
   "metadata": {},
   "outputs": [
    {
     "name": "stdout",
     "output_type": "stream",
     "text": [
      "Its alive\n"
     ]
    }
   ],
   "source": [
    "print(\"Its alive\");\n"
   ]
  },
  {
   "cell_type": "markdown",
   "id": "55258895",
   "metadata": {},
   "source": [
    "# 02. Premenné dátové typy"
   ]
  },
  {
   "cell_type": "code",
   "execution_count": 9,
   "id": "28003f81",
   "metadata": {},
   "outputs": [
    {
     "name": "stdout",
     "output_type": "stream",
     "text": [
      "Ahoj Adam\n",
      "Ahoj Adam\n",
      "Do Vianoc je este 23 dní!\n"
     ]
    }
   ],
   "source": [
    "# Jednoriadkový komentár (poznámky, odkazy)\n",
    "# Retazec (str - string)\n",
    "menoKlient = \"Adam\"\n",
    "print(\"Ahoj\", menoKlient)\n",
    "print(\"Ahoj \" +  menoKlient)\n",
    "\n",
    "#Cele číslo (int - integer)\n",
    "pocetDniVianoce = 23\n",
    "print(\"Do Vianoc je este\", pocetDniVianoce, \"dní!\")"
   ]
  },
  {
   "cell_type": "code",
   "execution_count": null,
   "id": "8156e154",
   "metadata": {},
   "outputs": [],
   "source": []
  }
 ],
 "metadata": {
  "kernelspec": {
   "display_name": "Python 3 (ipykernel)",
   "language": "python",
   "name": "python3"
  },
  "language_info": {
   "codemirror_mode": {
    "name": "ipython",
    "version": 3
   },
   "file_extension": ".py",
   "mimetype": "text/x-python",
   "name": "python",
   "nbconvert_exporter": "python",
   "pygments_lexer": "ipython3",
   "version": "3.9.7"
  }
 },
 "nbformat": 4,
 "nbformat_minor": 5
}
